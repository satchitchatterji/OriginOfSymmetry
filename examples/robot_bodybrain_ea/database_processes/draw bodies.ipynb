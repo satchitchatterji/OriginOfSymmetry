{
 "cells": [
  {
   "cell_type": "code",
   "execution_count": 1,
   "id": "24543b50-efc0-4eca-b880-3b4e368c3a73",
   "metadata": {},
   "outputs": [],
   "source": [
    "from util import create_engine\n",
    "\n",
    "dbengine = create_engine(\"../big_exp001.sqlite\")"
   ]
  },
  {
   "cell_type": "code",
   "execution_count": 3,
   "id": "5a4104ff-50b6-4252-9a0d-c0f6461435bf",
   "metadata": {},
   "outputs": [],
   "source": [
    "import config\n",
    "import pandas\n",
    "from experiment import Experiment\n",
    "from generation import Generation\n",
    "from individual import Individual\n",
    "from population import Population\n",
    "\n",
    "serialized_bodies = pandas.read_sql(\"select id, serialized_body from genotype\", dbengine)"
   ]
  },
  {
   "cell_type": "code",
   "execution_count": 11,
   "id": "686e07c3-2ebd-4dfa-bc21-90d43efe547c",
   "metadata": {},
   "outputs": [],
   "source": [
    "import multineat\n",
    "body = multineat.Genome()\n",
    "body.Deserialize(serialized_bodies.iloc[1][\"serialized_body\"])"
   ]
  },
  {
   "cell_type": "code",
   "execution_count": 24,
   "id": "e51c87c1-a0e6-43fa-a91a-279f2472e096",
   "metadata": {},
   "outputs": [],
   "source": [
    "from genotype import Genotype\n",
    "g = Genotype(body=body, brain=None)\n",
    "gbody = g.develop()"
   ]
  },
  {
   "cell_type": "code",
   "execution_count": 29,
   "id": "23b4d788-1862-480f-bffd-00e54ec859db",
   "metadata": {},
   "outputs": [
    {
     "ename": "AttributeError",
     "evalue": "'Core' object has no attribute 'attachment_points'",
     "output_type": "error",
     "traceback": [
      "\u001b[0;31m---------------------------------------------------------------------------\u001b[0m",
      "\u001b[0;31mAttributeError\u001b[0m                            Traceback (most recent call last)",
      "Cell \u001b[0;32mIn[29], line 5\u001b[0m\n\u001b[1;32m      3\u001b[0m \u001b[38;5;28;01mimport\u001b[39;00m \u001b[38;5;21;01mplanar_robot_representation\u001b[39;00m\n\u001b[1;32m      4\u001b[0m importlib\u001b[38;5;241m.\u001b[39mreload(planar_robot_representation)\n\u001b[0;32m----> 5\u001b[0m \u001b[43mplanar_robot_representation\u001b[49m\u001b[38;5;241;43m.\u001b[39;49m\u001b[43mdraw_robot\u001b[49m\u001b[43m(\u001b[49m\u001b[43mgbody\u001b[49m\u001b[43m,\u001b[49m\u001b[43m \u001b[49m\u001b[43mpath\u001b[49m\u001b[38;5;241;43m=\u001b[39;49m\u001b[38;5;124;43m\"\u001b[39;49m\u001b[38;5;124;43mrobot_imgs\u001b[39;49m\u001b[38;5;124;43m\"\u001b[39;49m\u001b[43m)\u001b[49m\n",
      "File \u001b[0;32m/mnt/c/Users/satch/Desktop/MSc Artificial Intelligence/EC/revolve2-0.4.2-beta2/revolve2-0.4.2-beta2/examples/robot_bodybrain_ea/database_processes/planar_robot_representation.py:74\u001b[0m, in \u001b[0;36mdraw_robot\u001b[0;34m(robot, scale, path)\u001b[0m\n\u001b[1;32m     71\u001b[0m context\u001b[38;5;241m.\u001b[39mscale(scale, scale)\n\u001b[1;32m     73\u001b[0m cx, cy, _ \u001b[38;5;241m=\u001b[39m \u001b[38;5;28mtuple\u001b[39m(core_position)\n\u001b[0;32m---> 74\u001b[0m \u001b[43m_draw_module\u001b[49m\u001b[43m(\u001b[49m\n\u001b[1;32m     75\u001b[0m \u001b[43m    \u001b[49m\u001b[43mmodule\u001b[49m\u001b[38;5;241;43m=\u001b[39;49m\u001b[43mbody\u001b[49m\u001b[38;5;241;43m.\u001b[39;49m\u001b[43mcore\u001b[49m\u001b[43m,\u001b[49m\n\u001b[1;32m     76\u001b[0m \u001b[43m    \u001b[49m\u001b[43mposition\u001b[49m\u001b[38;5;241;43m=\u001b[39;49m\u001b[43m(\u001b[49m\u001b[43mcx\u001b[49m\u001b[43m,\u001b[49m\u001b[43m \u001b[49m\u001b[43mcy\u001b[49m\u001b[43m)\u001b[49m\u001b[43m,\u001b[49m\n\u001b[1;32m     77\u001b[0m \u001b[43m    \u001b[49m\u001b[43mprevious_position\u001b[49m\u001b[38;5;241;43m=\u001b[39;49m\u001b[43m(\u001b[49m\u001b[43mcx\u001b[49m\u001b[43m,\u001b[49m\u001b[43m \u001b[49m\u001b[43mcy\u001b[49m\u001b[43m)\u001b[49m\u001b[43m,\u001b[49m\n\u001b[1;32m     78\u001b[0m \u001b[43m    \u001b[49m\u001b[43morientation\u001b[49m\u001b[38;5;241;43m=\u001b[39;49m\u001b[43m_make_rot_mat\u001b[49m\u001b[43m(\u001b[49m\u001b[38;5;241;43m0\u001b[39;49m\u001b[43m)\u001b[49m\u001b[43m,\u001b[49m\n\u001b[1;32m     79\u001b[0m \u001b[43m    \u001b[49m\u001b[43mcontext\u001b[49m\u001b[38;5;241;43m=\u001b[39;49m\u001b[43mcontext\u001b[49m\u001b[43m,\u001b[49m\n\u001b[1;32m     80\u001b[0m \u001b[43m\u001b[49m\u001b[43m)\u001b[49m\n\u001b[1;32m     81\u001b[0m _save_png(image, path)\n",
      "File \u001b[0;32m/mnt/c/Users/satch/Desktop/MSc Artificial Intelligence/EC/revolve2-0.4.2-beta2/revolve2-0.4.2-beta2/examples/robot_bodybrain_ea/database_processes/planar_robot_representation.py:156\u001b[0m, in \u001b[0;36m_draw_module\u001b[0;34m(module, position, previous_position, orientation, context, print_id)\u001b[0m\n\u001b[1;32m    153\u001b[0m     context\u001b[38;5;241m.\u001b[39mstroke()\n\u001b[1;32m    155\u001b[0m \u001b[38;5;28;01mfor\u001b[39;00m key, child \u001b[38;5;129;01min\u001b[39;00m \u001b[38;5;28menumerate\u001b[39m(module\u001b[38;5;241m.\u001b[39mchildren):\n\u001b[0;32m--> 156\u001b[0m     angle \u001b[38;5;241m=\u001b[39m \u001b[43mmodule\u001b[49m\u001b[38;5;241;43m.\u001b[39;49m\u001b[43mattachment_points\u001b[49m[key]\u001b[38;5;241m.\u001b[39morientation\u001b[38;5;241m.\u001b[39mangle\n\u001b[1;32m    157\u001b[0m     mapo \u001b[38;5;241m=\u001b[39m _make_rot_mat(angle)\n\u001b[1;32m    158\u001b[0m     target_orientation \u001b[38;5;241m=\u001b[39m orientation \u001b[38;5;241m@\u001b[39m mapo\n",
      "\u001b[0;31mAttributeError\u001b[0m: 'Core' object has no attribute 'attachment_points'"
     ]
    }
   ],
   "source": [
    "# from planar_robot_representation import draw_robot, draw_robots\n",
    "import importlib\n",
    "import planar_robot_representation\n",
    "importlib.reload(planar_robot_representation)\n",
    "planar_robot_representation.draw_robot(gbody, path=\"robot_imgs\")"
   ]
  }
 ],
 "metadata": {
  "kernelspec": {
   "display_name": "Python 3 (ipykernel)",
   "language": "python",
   "name": "python3"
  },
  "language_info": {
   "codemirror_mode": {
    "name": "ipython",
    "version": 3
   },
   "file_extension": ".py",
   "mimetype": "text/x-python",
   "name": "python",
   "nbconvert_exporter": "python",
   "pygments_lexer": "ipython3",
   "version": "3.10.12"
  }
 },
 "nbformat": 4,
 "nbformat_minor": 5
}
