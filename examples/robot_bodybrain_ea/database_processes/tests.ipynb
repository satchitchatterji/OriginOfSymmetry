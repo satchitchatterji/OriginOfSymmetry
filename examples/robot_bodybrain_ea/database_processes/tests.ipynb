{
 "cells": [
  {
   "cell_type": "code",
   "execution_count": 1,
   "metadata": {},
   "outputs": [
    {
     "data": {
      "text/html": [
       "<div>\n",
       "<style scoped>\n",
       "    .dataframe tbody tr th:only-of-type {\n",
       "        vertical-align: middle;\n",
       "    }\n",
       "\n",
       "    .dataframe tbody tr th {\n",
       "        vertical-align: top;\n",
       "    }\n",
       "\n",
       "    .dataframe thead th {\n",
       "        text-align: right;\n",
       "    }\n",
       "</style>\n",
       "<table border=\"1\" class=\"dataframe\">\n",
       "  <thead>\n",
       "    <tr style=\"text-align: right;\">\n",
       "      <th></th>\n",
       "      <th>experiment_id</th>\n",
       "      <th>generation_index</th>\n",
       "      <th>fitness</th>\n",
       "      <th>symmetry</th>\n",
       "      <th>xy_positions</th>\n",
       "      <th>population_index</th>\n",
       "    </tr>\n",
       "  </thead>\n",
       "  <tbody>\n",
       "    <tr>\n",
       "      <th>0</th>\n",
       "      <td>1</td>\n",
       "      <td>0</td>\n",
       "      <td>-50.081943</td>\n",
       "      <td>0.0</td>\n",
       "      <td>[BodyState(core_position=Vector3([0.        , ...</td>\n",
       "      <td>0</td>\n",
       "    </tr>\n",
       "    <tr>\n",
       "      <th>1</th>\n",
       "      <td>1</td>\n",
       "      <td>0</td>\n",
       "      <td>-50.000000</td>\n",
       "      <td>0.0</td>\n",
       "      <td>[BodyState(core_position=Vector3([0.     , 0. ...</td>\n",
       "      <td>1</td>\n",
       "    </tr>\n",
       "    <tr>\n",
       "      <th>2</th>\n",
       "      <td>1</td>\n",
       "      <td>0</td>\n",
       "      <td>-50.300894</td>\n",
       "      <td>0.0</td>\n",
       "      <td>[BodyState(core_position=Vector3([0.        , ...</td>\n",
       "      <td>2</td>\n",
       "    </tr>\n",
       "    <tr>\n",
       "      <th>3</th>\n",
       "      <td>1</td>\n",
       "      <td>0</td>\n",
       "      <td>-48.281871</td>\n",
       "      <td>0.0</td>\n",
       "      <td>[BodyState(core_position=Vector3([0.     , 0. ...</td>\n",
       "      <td>3</td>\n",
       "    </tr>\n",
       "    <tr>\n",
       "      <th>4</th>\n",
       "      <td>1</td>\n",
       "      <td>0</td>\n",
       "      <td>-47.718634</td>\n",
       "      <td>0.0</td>\n",
       "      <td>[BodyState(core_position=Vector3([0.        , ...</td>\n",
       "      <td>4</td>\n",
       "    </tr>\n",
       "    <tr>\n",
       "      <th>...</th>\n",
       "      <td>...</td>\n",
       "      <td>...</td>\n",
       "      <td>...</td>\n",
       "      <td>...</td>\n",
       "      <td>...</td>\n",
       "      <td>...</td>\n",
       "    </tr>\n",
       "    <tr>\n",
       "      <th>4195</th>\n",
       "      <td>6</td>\n",
       "      <td>49</td>\n",
       "      <td>-32.197473</td>\n",
       "      <td>0.0</td>\n",
       "      <td>[BodyState(core_position=Vector3([0.     , 0. ...</td>\n",
       "      <td>45</td>\n",
       "    </tr>\n",
       "    <tr>\n",
       "      <th>4196</th>\n",
       "      <td>6</td>\n",
       "      <td>49</td>\n",
       "      <td>-31.255834</td>\n",
       "      <td>0.0</td>\n",
       "      <td>[BodyState(core_position=Vector3([0.     , 0. ...</td>\n",
       "      <td>46</td>\n",
       "    </tr>\n",
       "    <tr>\n",
       "      <th>4197</th>\n",
       "      <td>6</td>\n",
       "      <td>49</td>\n",
       "      <td>-31.477430</td>\n",
       "      <td>0.0</td>\n",
       "      <td>[BodyState(core_position=Vector3([0.     , 0. ...</td>\n",
       "      <td>47</td>\n",
       "    </tr>\n",
       "    <tr>\n",
       "      <th>4198</th>\n",
       "      <td>6</td>\n",
       "      <td>49</td>\n",
       "      <td>-30.994176</td>\n",
       "      <td>0.0</td>\n",
       "      <td>[BodyState(core_position=Vector3([0.     , 0. ...</td>\n",
       "      <td>48</td>\n",
       "    </tr>\n",
       "    <tr>\n",
       "      <th>4199</th>\n",
       "      <td>6</td>\n",
       "      <td>49</td>\n",
       "      <td>-32.197473</td>\n",
       "      <td>0.0</td>\n",
       "      <td>[BodyState(core_position=Vector3([0.     , 0. ...</td>\n",
       "      <td>49</td>\n",
       "    </tr>\n",
       "  </tbody>\n",
       "</table>\n",
       "<p>4200 rows × 6 columns</p>\n",
       "</div>"
      ],
      "text/plain": [
       "      experiment_id  generation_index    fitness  symmetry  \\\n",
       "0                 1                 0 -50.081943       0.0   \n",
       "1                 1                 0 -50.000000       0.0   \n",
       "2                 1                 0 -50.300894       0.0   \n",
       "3                 1                 0 -48.281871       0.0   \n",
       "4                 1                 0 -47.718634       0.0   \n",
       "...             ...               ...        ...       ...   \n",
       "4195              6                49 -32.197473       0.0   \n",
       "4196              6                49 -31.255834       0.0   \n",
       "4197              6                49 -31.477430       0.0   \n",
       "4198              6                49 -30.994176       0.0   \n",
       "4199              6                49 -32.197473       0.0   \n",
       "\n",
       "                                           xy_positions  population_index  \n",
       "0     [BodyState(core_position=Vector3([0.        , ...                 0  \n",
       "1     [BodyState(core_position=Vector3([0.     , 0. ...                 1  \n",
       "2     [BodyState(core_position=Vector3([0.        , ...                 2  \n",
       "3     [BodyState(core_position=Vector3([0.     , 0. ...                 3  \n",
       "4     [BodyState(core_position=Vector3([0.        , ...                 4  \n",
       "...                                                 ...               ...  \n",
       "4195  [BodyState(core_position=Vector3([0.     , 0. ...                45  \n",
       "4196  [BodyState(core_position=Vector3([0.     , 0. ...                46  \n",
       "4197  [BodyState(core_position=Vector3([0.     , 0. ...                47  \n",
       "4198  [BodyState(core_position=Vector3([0.     , 0. ...                48  \n",
       "4199  [BodyState(core_position=Vector3([0.     , 0. ...                49  \n",
       "\n",
       "[4200 rows x 6 columns]"
      ]
     },
     "execution_count": 1,
     "metadata": {},
     "output_type": "execute_result"
    }
   ],
   "source": [
    "from util import open_experiment_table\n",
    "df = open_experiment_table()\n",
    "df"
   ]
  },
  {
   "cell_type": "code",
   "execution_count": 5,
   "metadata": {},
   "outputs": [
    {
     "data": {
      "text/plain": [
       "50"
      ]
     },
     "execution_count": 5,
     "metadata": {},
     "output_type": "execute_result"
    }
   ],
   "source": [
    "# len(df[df[\"experiment_id\"]==6])/50\n",
    "\n",
    "len(df[(df[\"experiment_id\"] == 6) & (df[\"generation_index\"] == 0)])"
   ]
  },
  {
   "cell_type": "code",
   "execution_count": 14,
   "metadata": {},
   "outputs": [],
   "source": [
    "from balance_compute import get_body_states_from_str\n",
    "import matplotlib.pyplot as plt\n",
    "\n",
    "def plot_core_path_single_generation(body_states, exp, gen):\n",
    "    for i, single_robot_body_state_str in enumerate(body_states):\n",
    "        single_robot_states = get_body_states_from_str(single_robot_body_state_str)\n",
    "        core_positions = [body_state.core_position for body_state in single_robot_states]\n",
    "        x = [core_position.x for core_position in core_positions]\n",
    "        y = [core_position.y for core_position in core_positions]\n",
    "        # mark the start and end\n",
    "        # plt.plot(x[0], y[0], \"go\")\n",
    "        plt.plot(x[-1], y[-1], \"ro\")\n",
    "        plt.plot(x, y, color=\"green\")\n",
    "\n",
    "    # plot objective\n",
    "    plt.plot([5], 5, \"rx\")\n",
    "    # plt.legend()\n",
    "    plt.grid(True)\n",
    "    plt.ylim(-1,6)\n",
    "    plt.xlim(-1,6)\n",
    "    plt.xlabel(\"x\")\n",
    "    plt.ylabel(\"y\")\n",
    "    plt.title(\"Core path for experiment \" + str(exp) + \" generation \" + str(gen))\n",
    "    # plt.savefig(f\"plots/paths/core_path_exp_{exp}_gen_{gen}.png\", bbox_inches=\"tight\")\n",
    "    plt.show()\n"
   ]
  },
  {
   "cell_type": "code",
   "execution_count": 15,
   "metadata": {},
   "outputs": [
    {
     "name": "stdout",
     "output_type": "stream",
     "text": [
      "number of individuals: 50\n"
     ]
    },
    {
     "data": {
      "image/png": "[encoded data removed]",
      "text/plain": [
       "<Figure size 640x480 with 1 Axes>"
      ]
     },
     "metadata": {},
     "output_type": "display_data"
    }
   ],
   "source": [
    "df_sub = df[(df[\"experiment_id\"] == 6) & (df[\"generation_index\"] == 0)]\n",
    "body_states = df[(df[\"experiment_id\"] == 6) & (df[\"generation_index\"] == 49)][\"xy_positions\"]\n",
    "print(f\"number of individuals: {len(body_states)}\")\n",
    "plot_core_path_single_generation(body_states, 6, 0)"
   ]
  }
 ],
 "metadata": {
  "kernelspec": {
   "display_name": "Python 3 (ipykernel)",
   "language": "python",
   "name": "python3"
  },
  "language_info": {
   "codemirror_mode": {
    "name": "ipython",
    "version": 3
   },
   "file_extension": ".py",
   "mimetype": "text/x-python",
   "name": "python",
   "nbconvert_exporter": "python",
   "pygments_lexer": "ipython3",
   "version": "3.10.12"
  }
 },
 "nbformat": 4,
 "nbformat_minor": 4
}
