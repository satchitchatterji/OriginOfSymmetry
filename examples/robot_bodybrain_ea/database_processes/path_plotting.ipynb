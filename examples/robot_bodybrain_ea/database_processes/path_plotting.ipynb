{
 "cells": [
  {
   "cell_type": "markdown",
   "metadata": {},
   "source": [
    "### Loading"
   ]
  },
  {
   "cell_type": "code",
   "execution_count": 1,
   "metadata": {},
   "outputs": [
    {
     "name": "stderr",
     "output_type": "stream",
     "text": [
      "/Users/michele/computer_science/code/OriginOfSymmetry/.venv/lib/python3.10/site-packages/pandas/io/sql.py:1600: SAWarning: TypeDecorator JSONEncodedMultineatParameters() will not produce a cache key because the ``cache_ok`` attribute is not set to True.  This can have significant performance implications including some performance degradations in comparison to prior SQLAlchemy versions.  Set this attribute to True if this type object's state is safe to use in a cache key, or False to disable this warning. (Background on this warning at: https://sqlalche.me/e/20/cprf)\n",
      "  return self.con.execute(sql, *args)\n",
      "/Users/michele/computer_science/code/OriginOfSymmetry/.venv/lib/python3.10/site-packages/pandas/io/sql.py:1600: SAWarning: TypeDecorator JSONEncodedDict() will not produce a cache key because the ``cache_ok`` attribute is not set to True.  This can have significant performance implications including some performance degradations in comparison to prior SQLAlchemy versions.  Set this attribute to True if this type object's state is safe to use in a cache key, or False to disable this warning. (Background on this warning at: https://sqlalche.me/e/20/cprf)\n",
      "  return self.con.execute(sql, *args)\n"
     ]
    },
    {
     "data": {
      "text/html": [
       "<div>\n",
       "<style scoped>\n",
       "    .dataframe tbody tr th:only-of-type {\n",
       "        vertical-align: middle;\n",
       "    }\n",
       "\n",
       "    .dataframe tbody tr th {\n",
       "        vertical-align: top;\n",
       "    }\n",
       "\n",
       "    .dataframe thead th {\n",
       "        text-align: right;\n",
       "    }\n",
       "</style>\n",
       "<table border=\"1\" class=\"dataframe\">\n",
       "  <thead>\n",
       "    <tr style=\"text-align: right;\">\n",
       "      <th></th>\n",
       "      <th>id</th>\n",
       "      <th>body_multineat_parameters</th>\n",
       "      <th>brain_multineat_parameters</th>\n",
       "      <th>evolution_parameters</th>\n",
       "    </tr>\n",
       "  </thead>\n",
       "  <tbody>\n",
       "    <tr>\n",
       "      <th>0</th>\n",
       "      <td>1</td>\n",
       "      <td>&lt;multineat._multineat.Parameters object at 0x1...</td>\n",
       "      <td>&lt;multineat._multineat.Parameters object at 0x1...</td>\n",
       "      <td>EvolutionParameters(database_file=./big_exp_fi...</td>\n",
       "    </tr>\n",
       "    <tr>\n",
       "      <th>1</th>\n",
       "      <td>2</td>\n",
       "      <td>&lt;multineat._multineat.Parameters object at 0x1...</td>\n",
       "      <td>&lt;multineat._multineat.Parameters object at 0x1...</td>\n",
       "      <td>EvolutionParameters(database_file=./big_exp_fi...</td>\n",
       "    </tr>\n",
       "    <tr>\n",
       "      <th>2</th>\n",
       "      <td>3</td>\n",
       "      <td>&lt;multineat._multineat.Parameters object at 0x1...</td>\n",
       "      <td>&lt;multineat._multineat.Parameters object at 0x1...</td>\n",
       "      <td>EvolutionParameters(database_file=./big_exp_fi...</td>\n",
       "    </tr>\n",
       "    <tr>\n",
       "      <th>3</th>\n",
       "      <td>4</td>\n",
       "      <td>&lt;multineat._multineat.Parameters object at 0x1...</td>\n",
       "      <td>&lt;multineat._multineat.Parameters object at 0x1...</td>\n",
       "      <td>EvolutionParameters(database_file=./big_exp_fi...</td>\n",
       "    </tr>\n",
       "    <tr>\n",
       "      <th>4</th>\n",
       "      <td>5</td>\n",
       "      <td>&lt;multineat._multineat.Parameters object at 0x1...</td>\n",
       "      <td>&lt;multineat._multineat.Parameters object at 0x1...</td>\n",
       "      <td>EvolutionParameters(database_file=./big_exp_fi...</td>\n",
       "    </tr>\n",
       "    <tr>\n",
       "      <th>5</th>\n",
       "      <td>6</td>\n",
       "      <td>&lt;multineat._multineat.Parameters object at 0x1...</td>\n",
       "      <td>&lt;multineat._multineat.Parameters object at 0x1...</td>\n",
       "      <td>EvolutionParameters(database_file=./big_exp_fi...</td>\n",
       "    </tr>\n",
       "  </tbody>\n",
       "</table>\n",
       "</div>"
      ],
      "text/plain": [
       "   id                          body_multineat_parameters  \\\n",
       "0   1  <multineat._multineat.Parameters object at 0x1...   \n",
       "1   2  <multineat._multineat.Parameters object at 0x1...   \n",
       "2   3  <multineat._multineat.Parameters object at 0x1...   \n",
       "3   4  <multineat._multineat.Parameters object at 0x1...   \n",
       "4   5  <multineat._multineat.Parameters object at 0x1...   \n",
       "5   6  <multineat._multineat.Parameters object at 0x1...   \n",
       "\n",
       "                          brain_multineat_parameters  \\\n",
       "0  <multineat._multineat.Parameters object at 0x1...   \n",
       "1  <multineat._multineat.Parameters object at 0x1...   \n",
       "2  <multineat._multineat.Parameters object at 0x1...   \n",
       "3  <multineat._multineat.Parameters object at 0x1...   \n",
       "4  <multineat._multineat.Parameters object at 0x1...   \n",
       "5  <multineat._multineat.Parameters object at 0x1...   \n",
       "\n",
       "                                evolution_parameters  \n",
       "0  EvolutionParameters(database_file=./big_exp_fi...  \n",
       "1  EvolutionParameters(database_file=./big_exp_fi...  \n",
       "2  EvolutionParameters(database_file=./big_exp_fi...  \n",
       "3  EvolutionParameters(database_file=./big_exp_fi...  \n",
       "4  EvolutionParameters(database_file=./big_exp_fi...  \n",
       "5  EvolutionParameters(database_file=./big_exp_fi...  "
      ]
     },
     "execution_count": 1,
     "metadata": {},
     "output_type": "execute_result"
    }
   ],
   "source": [
    "from util import open_experiment_table\n",
    "df, df_params = open_experiment_table(filepath='big_exp_final.sqlite')\n",
    "df_params"
   ]
  },
  {
   "cell_type": "markdown",
   "metadata": {},
   "source": [
    "### Selecting experiments based on parameters"
   ]
  },
  {
   "cell_type": "code",
   "execution_count": 6,
   "metadata": {},
   "outputs": [
    {
     "data": {
      "text/plain": [
       "{1: False, 2: False, 3: True, 4: False, 5: False, 6: True}"
      ]
     },
     "execution_count": 6,
     "metadata": {},
     "output_type": "execute_result"
    }
   ],
   "source": [
    "# dict  in the form\n",
    "# {\n",
    "#     index: True if targets are 3 \n",
    "# }\n",
    "\n",
    "targets = {}\n",
    "\n",
    "for i, row in df_params.iterrows():\n",
    "    evol_params = row[\"evolution_parameters\"]\n",
    "    target_list = evol_params.target_list\n",
    "    targets[row[\"id\"]] = len(target_list) == 3\n",
    "\n",
    "targets"
   ]
  },
  {
   "cell_type": "code",
   "execution_count": 5,
   "metadata": {},
   "outputs": [
    {
     "data": {
      "text/plain": [
       "{1: True, 2: True, 3: True, 4: False, 5: False, 6: False}"
      ]
     },
     "execution_count": 5,
     "metadata": {},
     "output_type": "execute_result"
    }
   ],
   "source": [
    "# dict  in the form\n",
    "# {\n",
    "#     index: True if steering is enabled\n",
    "# }\n",
    "\n",
    "steering = {}\n",
    "\n",
    "for i, row in df_params.iterrows():\n",
    "    evol_params = row[\"evolution_parameters\"]\n",
    "    steering[row['id']] = evol_params.steer\n",
    "\n",
    "steering\n"
   ]
  },
  {
   "cell_type": "code",
   "execution_count": 7,
   "metadata": {},
   "outputs": [
    {
     "data": {
      "text/plain": [
       "[3]"
      ]
     },
     "execution_count": 7,
     "metadata": {},
     "output_type": "execute_result"
    }
   ],
   "source": [
    "# select paramters with both 3 targets and steering enabled\n",
    "\n",
    "selected = []\n",
    "\n",
    "for i in targets:\n",
    "\n",
    "    if targets[i] and steering[i]:\n",
    "        selected.append(i)\n",
    "\n",
    "selected"
   ]
  },
  {
   "cell_type": "code",
   "execution_count": 8,
   "metadata": {},
   "outputs": [],
   "source": [
    "# df with only selected parameters\n",
    "df_selected = df[df[\"parameters_id\"].isin(selected)]"
   ]
  },
  {
   "cell_type": "code",
   "execution_count": 9,
   "metadata": {},
   "outputs": [
    {
     "data": {
      "text/html": [
       "<div>\n",
       "<style scoped>\n",
       "    .dataframe tbody tr th:only-of-type {\n",
       "        vertical-align: middle;\n",
       "    }\n",
       "\n",
       "    .dataframe tbody tr th {\n",
       "        vertical-align: top;\n",
       "    }\n",
       "\n",
       "    .dataframe thead th {\n",
       "        text-align: right;\n",
       "    }\n",
       "</style>\n",
       "<table border=\"1\" class=\"dataframe\">\n",
       "  <thead>\n",
       "    <tr style=\"text-align: right;\">\n",
       "      <th></th>\n",
       "      <th>experiment_id</th>\n",
       "      <th>parameters_id</th>\n",
       "      <th>generation_index</th>\n",
       "      <th>fitness</th>\n",
       "      <th>symmetry</th>\n",
       "      <th>xy_positions</th>\n",
       "      <th>population_index</th>\n",
       "    </tr>\n",
       "  </thead>\n",
       "  <tbody>\n",
       "    <tr>\n",
       "      <th>399995</th>\n",
       "      <td>20</td>\n",
       "      <td>3</td>\n",
       "      <td>199</td>\n",
       "      <td>-5.907461</td>\n",
       "      <td>0.0</td>\n",
       "      <td>[ActorState(position=Vector3([0.     , 0.     ...</td>\n",
       "      <td>95</td>\n",
       "    </tr>\n",
       "    <tr>\n",
       "      <th>399996</th>\n",
       "      <td>20</td>\n",
       "      <td>3</td>\n",
       "      <td>199</td>\n",
       "      <td>-5.182462</td>\n",
       "      <td>0.0</td>\n",
       "      <td>[ActorState(position=Vector3([0.     , 0.     ...</td>\n",
       "      <td>96</td>\n",
       "    </tr>\n",
       "    <tr>\n",
       "      <th>399997</th>\n",
       "      <td>20</td>\n",
       "      <td>3</td>\n",
       "      <td>199</td>\n",
       "      <td>-5.276556</td>\n",
       "      <td>0.0</td>\n",
       "      <td>[ActorState(position=Vector3([0.     , 0.     ...</td>\n",
       "      <td>97</td>\n",
       "    </tr>\n",
       "    <tr>\n",
       "      <th>399998</th>\n",
       "      <td>20</td>\n",
       "      <td>3</td>\n",
       "      <td>199</td>\n",
       "      <td>-5.354085</td>\n",
       "      <td>0.0</td>\n",
       "      <td>[ActorState(position=Vector3([0.     , 0.     ...</td>\n",
       "      <td>98</td>\n",
       "    </tr>\n",
       "    <tr>\n",
       "      <th>399999</th>\n",
       "      <td>20</td>\n",
       "      <td>3</td>\n",
       "      <td>199</td>\n",
       "      <td>-4.415940</td>\n",
       "      <td>0.0</td>\n",
       "      <td>[ActorState(position=Vector3([0.     , 0.     ...</td>\n",
       "      <td>99</td>\n",
       "    </tr>\n",
       "  </tbody>\n",
       "</table>\n",
       "</div>"
      ],
      "text/plain": [
       "        experiment_id  parameters_id  generation_index   fitness  symmetry  \\\n",
       "399995             20              3               199 -5.907461       0.0   \n",
       "399996             20              3               199 -5.182462       0.0   \n",
       "399997             20              3               199 -5.276556       0.0   \n",
       "399998             20              3               199 -5.354085       0.0   \n",
       "399999             20              3               199 -4.415940       0.0   \n",
       "\n",
       "                                             xy_positions  population_index  \n",
       "399995  [ActorState(position=Vector3([0.     , 0.     ...                95  \n",
       "399996  [ActorState(position=Vector3([0.     , 0.     ...                96  \n",
       "399997  [ActorState(position=Vector3([0.     , 0.     ...                97  \n",
       "399998  [ActorState(position=Vector3([0.     , 0.     ...                98  \n",
       "399999  [ActorState(position=Vector3([0.     , 0.     ...                99  "
      ]
     },
     "execution_count": 9,
     "metadata": {},
     "output_type": "execute_result"
    }
   ],
   "source": [
    "df_selected.tail()"
   ]
  },
  {
   "cell_type": "markdown",
   "metadata": {},
   "source": [
    "### Plot paths"
   ]
  },
  {
   "cell_type": "code",
   "execution_count": 11,
   "metadata": {},
   "outputs": [],
   "source": [
    "from pyrr import Quaternion, Matrix33, Vector3\n",
    "import numpy as np\n",
    "\n",
    "def rotate_vector_with_pyrr(quaternion, vector=Vector3([1.0, 0.0, 0.0])):\n",
    "    # Create a Quaternion object from the given quaternion\n",
    "    q = Quaternion(quaternion)\n",
    "    # Convert the quaternion into a rotation matrix\n",
    "    rotation_matrix = Matrix33.from_quaternion(q)\n",
    "    # Apply the rotation matrix to the vector\n",
    "    rotated_vector = rotation_matrix * vector\n",
    "    # Return the rotated vector (you can ignore the z-component for 2D)\n",
    "    return rotated_vector.xy\n"
   ]
  },
  {
   "cell_type": "code",
   "execution_count": 25,
   "metadata": {},
   "outputs": [],
   "source": [
    "del get_body_states_from_str"
   ]
  },
  {
   "cell_type": "code",
   "execution_count": 33,
   "metadata": {},
   "outputs": [],
   "source": [
    "from revolve2.modular_robot._body_state import BodyState\n",
    "from revolve2.simulation.running._results import ActorState\n",
    "\n",
    "\n",
    "get_body_states_from_str = lambda x: eval(x)"
   ]
  },
  {
   "cell_type": "code",
   "execution_count": 46,
   "metadata": {},
   "outputs": [],
   "source": [
    "import numpy as np\n",
    "import matplotlib.pyplot as plt\n",
    "#from balance_compute import get_body_states_from_str\n",
    "\n",
    "def plot_core_path_single_generation(body_states, exp, gen,steer, condition, path_type=\"vector\", n_robots=-1, step_time=7, scale=3, seed=0, save_img=False, best_fitness_index=None, best_sym_index=None, best_bal_index=None):\n",
    "    assert step_time > 0\n",
    "    assert n_robots > 0 or n_robots == -1\n",
    "    assert path_type in [\"vector\", \"point\", \"both\"]\n",
    "    assert step_time > 0\n",
    "\n",
    "    # select random robots if needed\n",
    "    np.random.seed(seed)\n",
    "    if n_robots == -1:\n",
    "        n_robots = len(body_states)\n",
    "    n_total_robots = len(body_states)\n",
    "    body_states = np.random.choice(body_states, n_robots, replace=False)\n",
    "    \n",
    "    best_path_x, best_path_y = None, None\n",
    "    best_sym_x, best_sym_y = None, None\n",
    "    best_bal_x, best_bal_y = None, None\n",
    "\n",
    "    for i, single_robot_body_state_str in enumerate(body_states):\n",
    "        # translate bodystates to readable objects\n",
    "        single_robot_states = get_body_states_from_str(single_robot_body_state_str)\n",
    "\n",
    "        # convert to BodyState objects if needed\n",
    "        if isinstance(single_robot_states[0], ActorState):\n",
    "\n",
    "            single_robot_states = [BodyState(core_orientation=actor_state.orientation, core_position=actor_state.position) for actor_state in single_robot_states]\n",
    "        \n",
    "        # collect positions\n",
    "        core_positions = [body_state.core_position for body_state in single_robot_states]\n",
    "        final_x = [core_positions[-1].x]\n",
    "        final_y = [core_positions[-1].y]\n",
    "        x = [core_position.x for core_position in core_positions][::step_time]+final_x\n",
    "        y = [core_position.y for core_position in core_positions][::step_time]+final_y\n",
    "        \n",
    "        # collect xy vector orientations\n",
    "        core_xy_orientations = [rotate_vector_with_pyrr(body_state.core_orientation) for body_state in single_robot_states]\n",
    "        final_vector = [core_xy_orientations[-1]]\n",
    "        vectors = np.array(core_xy_orientations[::step_time]+final_vector)\n",
    "\n",
    "        if best_fitness_index is not None and i == best_fitness_index:\n",
    "            best_fitness_x, best_fitness_y = x, y\n",
    "            \n",
    "        if best_sym_index is not None and i == best_sym_index:\n",
    "            best_sym_x, best_sym_y = x, y\n",
    "\n",
    "        if best_bal_index is not None and i == best_bal_index:\n",
    "            best_bal_x, best_bal_y = x, y\n",
    "            \n",
    "        if path_type == \"point\" or path_type==\"both\":\n",
    "            plt.plot(x[0], y[0], \"go\")      # starting point\n",
    "            # plt.plot(x[-1], y[-1], \"ro\")    # end point\n",
    "            plt.plot(x, y, color=\"grey\")   # rest of path\n",
    "            \n",
    "\n",
    "        \n",
    "        if path_type == \"vector\" or path_type==\"both\":\n",
    "            U, V = vectors[:, 0], vectors[:, 1]\n",
    "            plt.quiver(x, y, U, V, \n",
    "                       angles='xy', scale_units='xy', scale=scale, linewidths=0.5, width=0.005, color=\"grey\")\n",
    "            plt.quiver(final_x, final_y, final_vector[0][0], final_vector[0][1], \n",
    "                       angles='xy', scale_units='xy', scale=scale, color=\"red\", linewidths=0.5, width=0.005)\n",
    "\n",
    "    # plot best robot\n",
    "    plt.plot(best_fitness_x, best_fitness_y, color=\"green\", label=\"Best fitness\")\n",
    "    plt.plot(best_sym_x, best_sym_y, color=\"pink\", linestyle=\"--\", label=\"Best symmetry\")\n",
    "    #plt.plot(best_bal_x, best_bal_y, color=\"red\", linestyle=\":\", label=\"Best balance\")\n",
    "    \n",
    "    # useful information to console\n",
    "    print(f\"Number of robots shown:    {n_robots}/{n_total_robots}\")\n",
    "    print(f\"Number of timesteps shown: {len(core_positions)//step_time}/{len(core_positions)}\")\n",
    "    \n",
    "    # plot target at (5,5)\n",
    "    plt.plot([5], 5, \"rx\")\n",
    "\n",
    "    # plot target at (-5,5) with another color\n",
    "    plt.plot([-5], 5, \"bx\")\n",
    "\n",
    "    # plot target at (0,sqrt(50)) with another color\n",
    "    plt.plot([0], np.sqrt(50), \"gx\")\n",
    "    \n",
    "    # boilerplate readability\n",
    "    plt.grid(True)\n",
    "    plt.legend()\n",
    "    plt.ylim(-1,8)\n",
    "    plt.xlim(-6,6)\n",
    "    plt.xlabel(\"x\")\n",
    "    plt.ylabel(\"y\")\n",
    "    # get the steer and target list\n",
    "\n",
    "    \n",
    "\n",
    "    \n",
    "\n",
    "    plt.title(\"Core path for experiment \" + str(exp) + \" generation \" + str(gen)+ \" con.:\" + condition + \" steering: \" + str(steer))\n",
    "    if save_img:\n",
    "        plt.savefig(f\"pilot/paths/core_path_exp_{exp}_gen_{gen}.png\", bbox_inches=\"tight\")\n",
    "\n",
    "    plt.show()\n"
   ]
  },
  {
   "cell_type": "code",
   "execution_count": 50,
   "metadata": {},
   "outputs": [
    {
     "data": {
      "text/html": [
       "<div>\n",
       "<style scoped>\n",
       "    .dataframe tbody tr th:only-of-type {\n",
       "        vertical-align: middle;\n",
       "    }\n",
       "\n",
       "    .dataframe tbody tr th {\n",
       "        vertical-align: top;\n",
       "    }\n",
       "\n",
       "    .dataframe thead th {\n",
       "        text-align: right;\n",
       "    }\n",
       "</style>\n",
       "<table border=\"1\" class=\"dataframe\">\n",
       "  <thead>\n",
       "    <tr style=\"text-align: right;\">\n",
       "      <th></th>\n",
       "      <th>experiment_id</th>\n",
       "      <th>parameters_id</th>\n",
       "      <th>generation_index</th>\n",
       "      <th>fitness</th>\n",
       "      <th>symmetry</th>\n",
       "      <th>xy_positions</th>\n",
       "      <th>population_index</th>\n",
       "    </tr>\n",
       "  </thead>\n",
       "  <tbody>\n",
       "    <tr>\n",
       "      <th>0</th>\n",
       "      <td>1</td>\n",
       "      <td>1</td>\n",
       "      <td>0</td>\n",
       "      <td>-7.070885</td>\n",
       "      <td>0.666667</td>\n",
       "      <td>[ActorState(position=Vector3([0.        , 0.  ...</td>\n",
       "      <td>0</td>\n",
       "    </tr>\n",
       "    <tr>\n",
       "      <th>1</th>\n",
       "      <td>1</td>\n",
       "      <td>1</td>\n",
       "      <td>0</td>\n",
       "      <td>-6.943401</td>\n",
       "      <td>0.250000</td>\n",
       "      <td>[ActorState(position=Vector3([0.     , 0.     ...</td>\n",
       "      <td>1</td>\n",
       "    </tr>\n",
       "    <tr>\n",
       "      <th>2</th>\n",
       "      <td>1</td>\n",
       "      <td>1</td>\n",
       "      <td>0</td>\n",
       "      <td>-7.094302</td>\n",
       "      <td>0.500000</td>\n",
       "      <td>[ActorState(position=Vector3([0.        , 0.  ...</td>\n",
       "      <td>2</td>\n",
       "    </tr>\n",
       "    <tr>\n",
       "      <th>3</th>\n",
       "      <td>1</td>\n",
       "      <td>1</td>\n",
       "      <td>0</td>\n",
       "      <td>-7.095749</td>\n",
       "      <td>0.400000</td>\n",
       "      <td>[ActorState(position=Vector3([0.        , 0.  ...</td>\n",
       "      <td>3</td>\n",
       "    </tr>\n",
       "    <tr>\n",
       "      <th>4</th>\n",
       "      <td>1</td>\n",
       "      <td>1</td>\n",
       "      <td>0</td>\n",
       "      <td>-6.785198</td>\n",
       "      <td>0.222222</td>\n",
       "      <td>[ActorState(position=Vector3([0.     , 0.     ...</td>\n",
       "      <td>4</td>\n",
       "    </tr>\n",
       "  </tbody>\n",
       "</table>\n",
       "</div>"
      ],
      "text/plain": [
       "   experiment_id  parameters_id  generation_index   fitness  symmetry  \\\n",
       "0              1              1                 0 -7.070885  0.666667   \n",
       "1              1              1                 0 -6.943401  0.250000   \n",
       "2              1              1                 0 -7.094302  0.500000   \n",
       "3              1              1                 0 -7.095749  0.400000   \n",
       "4              1              1                 0 -6.785198  0.222222   \n",
       "\n",
       "                                        xy_positions  population_index  \n",
       "0  [ActorState(position=Vector3([0.        , 0.  ...                 0  \n",
       "1  [ActorState(position=Vector3([0.     , 0.     ...                 1  \n",
       "2  [ActorState(position=Vector3([0.        , 0.  ...                 2  \n",
       "3  [ActorState(position=Vector3([0.        , 0.  ...                 3  \n",
       "4  [ActorState(position=Vector3([0.     , 0.     ...                 4  "
      ]
     },
     "execution_count": 50,
     "metadata": {},
     "output_type": "execute_result"
    }
   ],
   "source": [
    "df.head()"
   ]
  },
  {
   "cell_type": "code",
   "execution_count": 48,
   "metadata": {},
   "outputs": [
    {
     "data": {
      "text/plain": [
       "False"
      ]
     },
     "execution_count": 48,
     "metadata": {},
     "output_type": "execute_result"
    }
   ],
   "source": [
    "[(0,1)] == [(0,0)]"
   ]
  },
  {
   "cell_type": "code",
   "execution_count": 53,
   "metadata": {},
   "outputs": [
    {
     "name": "stdout",
     "output_type": "stream",
     "text": [
      "Number of robots shown:    100/100\n",
      "Number of timesteps shown: 3/31\n"
     ]
    },
    {
     "ename": "TypeError",
     "evalue": "can only concatenate str (not \"bool\") to str",
     "output_type": "error",
     "traceback": [
      "\u001b[0;31m---------------------------------------------------------------------------\u001b[0m",
      "\u001b[0;31mTypeError\u001b[0m                                 Traceback (most recent call last)",
      "Cell \u001b[0;32mIn[53], line 44\u001b[0m\n\u001b[1;32m     41\u001b[0m     \u001b[38;5;28mprint\u001b[39m(\u001b[38;5;124mf\u001b[39m\u001b[38;5;124m\"\u001b[39m\u001b[38;5;124mUnknown target list\u001b[39m\u001b[38;5;132;01m{\u001b[39;00mtarget_list\u001b[38;5;132;01m}\u001b[39;00m\u001b[38;5;124m\"\u001b[39m)\n\u001b[1;32m     42\u001b[0m     \u001b[38;5;28;01mbreak\u001b[39;00m\n\u001b[0;32m---> 44\u001b[0m \u001b[43mplot_core_path_single_generation\u001b[49m\u001b[43m(\u001b[49m\u001b[43mbody_states\u001b[49m\u001b[43m,\u001b[49m\u001b[43m \u001b[49m\u001b[43mex\u001b[49m\u001b[43m,\u001b[49m\u001b[43m \u001b[49m\u001b[43mgen\u001b[49m\u001b[43m,\u001b[49m\u001b[43m \u001b[49m\u001b[43msteer\u001b[49m\u001b[43m,\u001b[49m\u001b[43m \u001b[49m\u001b[43mcondition\u001b[49m\u001b[43m,\u001b[49m\u001b[43m \u001b[49m\u001b[43mpath_type\u001b[49m\u001b[38;5;241;43m=\u001b[39;49m\u001b[38;5;124;43m\"\u001b[39;49m\u001b[38;5;124;43mboth\u001b[39;49m\u001b[38;5;124;43m\"\u001b[39;49m\u001b[43m,\u001b[49m\u001b[43m \u001b[49m\u001b[43mn_robots\u001b[49m\u001b[38;5;241;43m=\u001b[39;49m\u001b[38;5;241;43m-\u001b[39;49m\u001b[38;5;241;43m1\u001b[39;49m\u001b[43m,\u001b[49m\u001b[43m \u001b[49m\u001b[43mstep_time\u001b[49m\u001b[38;5;241;43m=\u001b[39;49m\u001b[38;5;241;43m10\u001b[39;49m\u001b[43m,\u001b[49m\u001b[43m \u001b[49m\n\u001b[1;32m     45\u001b[0m \u001b[43m                                 \u001b[49m\u001b[43mscale\u001b[49m\u001b[38;5;241;43m=\u001b[39;49m\u001b[38;5;241;43m2\u001b[39;49m\u001b[43m,\u001b[49m\u001b[43m \u001b[49m\u001b[43mseed\u001b[49m\u001b[38;5;241;43m=\u001b[39;49m\u001b[38;5;28;43;01mNone\u001b[39;49;00m\u001b[43m,\u001b[49m\u001b[43m \u001b[49m\u001b[43mbest_fitness_index\u001b[49m\u001b[38;5;241;43m=\u001b[39;49m\u001b[43mbest_fitness_index\u001b[49m\u001b[43m,\u001b[49m\u001b[43m \u001b[49m\u001b[43mbest_sym_index\u001b[49m\u001b[38;5;241;43m=\u001b[39;49m\u001b[43mbest_sym_index\u001b[49m\u001b[43m,\u001b[49m\u001b[43m \u001b[49m\n\u001b[1;32m     46\u001b[0m \u001b[43m                                 \u001b[49m\u001b[43mbest_bal_index\u001b[49m\u001b[38;5;241;43m=\u001b[39;49m\u001b[38;5;28;43;01mNone\u001b[39;49;00m\u001b[43m,\u001b[49m\u001b[43m \u001b[49m\u001b[43msave_img\u001b[49m\u001b[38;5;241;43m=\u001b[39;49m\u001b[38;5;28;43;01mFalse\u001b[39;49;00m\u001b[43m)\u001b[49m\n\u001b[1;32m     47\u001b[0m \u001b[38;5;66;03m# break\u001b[39;00m\n",
      "Cell \u001b[0;32mIn[46], line 97\u001b[0m, in \u001b[0;36mplot_core_path_single_generation\u001b[0;34m(body_states, exp, gen, steer, condition, path_type, n_robots, step_time, scale, seed, save_img, best_fitness_index, best_sym_index, best_bal_index)\u001b[0m\n\u001b[1;32m     90\u001b[0m plt\u001b[38;5;241m.\u001b[39mylabel(\u001b[38;5;124m\"\u001b[39m\u001b[38;5;124my\u001b[39m\u001b[38;5;124m\"\u001b[39m)\n\u001b[1;32m     91\u001b[0m \u001b[38;5;66;03m# get the steer and target list\u001b[39;00m\n\u001b[0;32m---> 97\u001b[0m plt\u001b[38;5;241m.\u001b[39mtitle(\u001b[38;5;124;43m\"\u001b[39;49m\u001b[38;5;124;43mCore path for experiment \u001b[39;49m\u001b[38;5;124;43m\"\u001b[39;49m\u001b[43m \u001b[49m\u001b[38;5;241;43m+\u001b[39;49m\u001b[43m \u001b[49m\u001b[38;5;28;43mstr\u001b[39;49m\u001b[43m(\u001b[49m\u001b[43mexp\u001b[49m\u001b[43m)\u001b[49m\u001b[43m \u001b[49m\u001b[38;5;241;43m+\u001b[39;49m\u001b[43m \u001b[49m\u001b[38;5;124;43m\"\u001b[39;49m\u001b[38;5;124;43m generation \u001b[39;49m\u001b[38;5;124;43m\"\u001b[39;49m\u001b[43m \u001b[49m\u001b[38;5;241;43m+\u001b[39;49m\u001b[43m \u001b[49m\u001b[38;5;28;43mstr\u001b[39;49m\u001b[43m(\u001b[49m\u001b[43mgen\u001b[49m\u001b[43m)\u001b[49m\u001b[38;5;241;43m+\u001b[39;49m\u001b[43m \u001b[49m\u001b[38;5;124;43m\"\u001b[39;49m\u001b[38;5;124;43m con.:\u001b[39;49m\u001b[38;5;124;43m\"\u001b[39;49m\u001b[43m \u001b[49m\u001b[38;5;241;43m+\u001b[39;49m\u001b[43m \u001b[49m\u001b[43mcondition\u001b[49m\u001b[43m \u001b[49m\u001b[38;5;241;43m+\u001b[39;49m\u001b[43m \u001b[49m\u001b[38;5;124;43m\"\u001b[39;49m\u001b[38;5;124;43m steering: \u001b[39;49m\u001b[38;5;124;43m\"\u001b[39;49m\u001b[43m \u001b[49m\u001b[38;5;241;43m+\u001b[39;49m\u001b[43m \u001b[49m\u001b[43msteer\u001b[49m)\n\u001b[1;32m     98\u001b[0m \u001b[38;5;28;01mif\u001b[39;00m save_img:\n\u001b[1;32m     99\u001b[0m     plt\u001b[38;5;241m.\u001b[39msavefig(\u001b[38;5;124mf\u001b[39m\u001b[38;5;124m\"\u001b[39m\u001b[38;5;124mpilot/paths/core_path_exp_\u001b[39m\u001b[38;5;132;01m{\u001b[39;00mexp\u001b[38;5;132;01m}\u001b[39;00m\u001b[38;5;124m_gen_\u001b[39m\u001b[38;5;132;01m{\u001b[39;00mgen\u001b[38;5;132;01m}\u001b[39;00m\u001b[38;5;124m.png\u001b[39m\u001b[38;5;124m\"\u001b[39m, bbox_inches\u001b[38;5;241m=\u001b[39m\u001b[38;5;124m\"\u001b[39m\u001b[38;5;124mtight\u001b[39m\u001b[38;5;124m\"\u001b[39m)\n",
      "\u001b[0;31mTypeError\u001b[0m: can only concatenate str (not \"bool\") to str"
     ]
    },
    {
     "data": {
      "image/png": "[encoded data removed]",
      "text/plain": [
       "<Figure size 640x480 with 1 Axes>"
      ]
     },
     "metadata": {},
     "output_type": "display_data"
    }
   ],
   "source": [
    "# sample 3 random experiments\n",
    "import math\n",
    "# get experiment ids\n",
    "exp_ids = df_selected[\"experiment_id\"].unique()\n",
    "\n",
    "# select 3 random experiments\n",
    "random_exp = np.random.choice(exp_ids, 3, replace=False)\n",
    "\n",
    "# get 10 random experiments from the original df\n",
    "random_exp = np.random.choice(df[\"experiment_id\"].unique(), 10, replace=False)\n",
    "\n",
    "\n",
    "\n",
    "for ex in df[\"experiment_id\"].unique():\n",
    "    for i, gen in enumerate(df[df[\"experiment_id\"] == ex][\"generation_index\"].unique()):\n",
    "        if i%50==0 or i==max(df[df[\"experiment_id\"] == ex][\"generation_index\"].unique()):\n",
    "            df_sub = df[(df[\"experiment_id\"] == ex) & (df[\"generation_index\"] == gen)]\n",
    "            best_fitness_index = np.argmax(df_sub[\"fitness\"])\n",
    "            best_sym_index = np.argmax(df_sub[\"symmetry\"])\n",
    "            #best_bal_index = np.argmax(df_sub[\"balance\"])\n",
    "            body_states = df[(df[\"experiment_id\"] == ex) & (df[\"generation_index\"] == gen)][\"xy_positions\"]\n",
    "\n",
    "\n",
    "            # get condition and steering\n",
    "            #get params\n",
    "            param_id = df_sub[\"parameters_id\"].iloc[0]\n",
    "            evol_params = df_params[df_params[\"id\"]==param_id].loc[:, \"evolution_parameters\"]\n",
    "            assert len(evol_params) == 1\n",
    "\n",
    "            steer = evol_params.iloc[0].steer\n",
    "\n",
    "            target_list = evol_params.iloc[0].target_list\n",
    "\n",
    "            if target_list == [[0,math.sqrt(50)], [5,5],[-5,5]]:\n",
    "                condition = \"T3\"\n",
    "            elif target_list == [[5,5]]:\n",
    "                    condition = \"T1\"\n",
    "            elif target_list == [[0,math.sqrt(50)]]:\n",
    "                    condition = \"T2\"\n",
    "            else:\n",
    "                print(f\"Unknown target list{target_list}\")\n",
    "                break\n",
    "            \n",
    "            plot_core_path_single_generation(body_states, ex, gen, steer, condition, path_type=\"both\", n_robots=-1, step_time=10, \n",
    "                                             scale=2, seed=None, best_fitness_index=best_fitness_index, best_sym_index=best_sym_index, \n",
    "                                             best_bal_index=None, save_img=False)\n",
    "            # break"
   ]
  },
  {
   "cell_type": "code",
   "execution_count": 23,
   "metadata": {},
   "outputs": [
    {
     "data": {
      "text/plain": [
       "str"
      ]
     },
     "execution_count": 23,
     "metadata": {},
     "output_type": "execute_result"
    }
   ],
   "source": [
    "type(df.iloc[0][\"xy_positions\"])"
   ]
  },
  {
   "cell_type": "code",
   "execution_count": null,
   "metadata": {},
   "outputs": [],
   "source": []
  }
 ],
 "metadata": {
  "kernelspec": {
   "display_name": ".venv",
   "language": "python",
   "name": "python3"
  },
  "language_info": {
   "codemirror_mode": {
    "name": "ipython",
    "version": 3
   },
   "file_extension": ".py",
   "mimetype": "text/x-python",
   "name": "python",
   "nbconvert_exporter": "python",
   "pygments_lexer": "ipython3",
   "version": "3.10.13"
  }
 },
 "nbformat": 4,
 "nbformat_minor": 2
}
