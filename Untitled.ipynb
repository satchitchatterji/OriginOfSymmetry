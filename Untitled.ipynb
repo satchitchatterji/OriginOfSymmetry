{
 "cells": [
  {
   "cell_type": "code",
   "execution_count": null,
   "id": "854bf4a3-d95f-446c-8365-a30e6a910a3b",
   "metadata": {},
   "outputs": [],
   "source": [
    "from util import create_engine\n",
    "import config\n",
    "import pandas\n",
    "\n",
    "dbengine = create_engine(\"../big_exp001.sqlite\")\n"
   ]
  }
 ],
 "metadata": {
  "kernelspec": {
   "display_name": "Python 3 (ipykernel)",
   "language": "python",
   "name": "python3"
  },
  "language_info": {
   "codemirror_mode": {
    "name": "ipython",
    "version": 3
   },
   "file_extension": ".py",
   "mimetype": "text/x-python",
   "name": "python",
   "nbconvert_exporter": "python",
   "pygments_lexer": "ipython3",
   "version": "3.10.12"
  }
 },
 "nbformat": 4,
 "nbformat_minor": 5
}
